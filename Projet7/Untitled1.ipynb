{
 "cells": [
  {
   "cell_type": "code",
   "execution_count": 3,
   "id": "e0a89815",
   "metadata": {},
   "outputs": [
    {
     "name": "stdout",
     "output_type": "stream",
     "text": [
      "Requirement already satisfied: fastapi in /home/benjamin/anaconda3/lib/python3.11/site-packages (0.111.0)\n",
      "Requirement already satisfied: uvicorn in /home/benjamin/anaconda3/lib/python3.11/site-packages (0.30.1)\n",
      "Requirement already satisfied: starlette<0.38.0,>=0.37.2 in /home/benjamin/anaconda3/lib/python3.11/site-packages (from fastapi) (0.37.2)\n",
      "Requirement already satisfied: pydantic!=1.8,!=1.8.1,!=2.0.0,!=2.0.1,!=2.1.0,<3.0.0,>=1.7.4 in /home/benjamin/anaconda3/lib/python3.11/site-packages (from fastapi) (1.10.8)\n",
      "Requirement already satisfied: typing-extensions>=4.8.0 in /home/benjamin/anaconda3/lib/python3.11/site-packages (from fastapi) (4.12.2)\n",
      "Requirement already satisfied: fastapi-cli>=0.0.2 in /home/benjamin/anaconda3/lib/python3.11/site-packages (from fastapi) (0.0.4)\n",
      "Requirement already satisfied: httpx>=0.23.0 in /home/benjamin/anaconda3/lib/python3.11/site-packages (from fastapi) (0.26.0)\n",
      "Requirement already satisfied: jinja2>=2.11.2 in /home/benjamin/anaconda3/lib/python3.11/site-packages (from fastapi) (3.1.2)\n",
      "Requirement already satisfied: python-multipart>=0.0.7 in /home/benjamin/anaconda3/lib/python3.11/site-packages (from fastapi) (0.0.9)\n",
      "Requirement already satisfied: ujson!=4.0.2,!=4.1.0,!=4.2.0,!=4.3.0,!=5.0.0,!=5.1.0,>=4.0.1 in /home/benjamin/anaconda3/lib/python3.11/site-packages (from fastapi) (5.4.0)\n",
      "Requirement already satisfied: orjson>=3.2.1 in /home/benjamin/anaconda3/lib/python3.11/site-packages (from fastapi) (3.10.5)\n",
      "Requirement already satisfied: email_validator>=2.0.0 in /home/benjamin/anaconda3/lib/python3.11/site-packages (from fastapi) (2.2.0)\n",
      "Requirement already satisfied: click>=7.0 in /home/benjamin/anaconda3/lib/python3.11/site-packages (from uvicorn) (8.0.4)\n",
      "Requirement already satisfied: h11>=0.8 in /home/benjamin/anaconda3/lib/python3.11/site-packages (from uvicorn) (0.14.0)\n",
      "Requirement already satisfied: dnspython>=2.0.0 in /home/benjamin/anaconda3/lib/python3.11/site-packages (from email_validator>=2.0.0->fastapi) (2.6.1)\n",
      "Requirement already satisfied: idna>=2.0.0 in /home/benjamin/anaconda3/lib/python3.11/site-packages (from email_validator>=2.0.0->fastapi) (3.4)\n",
      "Requirement already satisfied: typer>=0.12.3 in /home/benjamin/anaconda3/lib/python3.11/site-packages (from fastapi-cli>=0.0.2->fastapi) (0.12.3)\n",
      "Requirement already satisfied: anyio in /home/benjamin/anaconda3/lib/python3.11/site-packages (from httpx>=0.23.0->fastapi) (3.5.0)\n",
      "Requirement already satisfied: certifi in /home/benjamin/anaconda3/lib/python3.11/site-packages (from httpx>=0.23.0->fastapi) (2024.6.2)\n",
      "Requirement already satisfied: httpcore==1.* in /home/benjamin/anaconda3/lib/python3.11/site-packages (from httpx>=0.23.0->fastapi) (1.0.2)\n",
      "Requirement already satisfied: sniffio in /home/benjamin/anaconda3/lib/python3.11/site-packages (from httpx>=0.23.0->fastapi) (1.2.0)\n",
      "Requirement already satisfied: MarkupSafe>=2.0 in /home/benjamin/anaconda3/lib/python3.11/site-packages (from jinja2>=2.11.2->fastapi) (2.1.1)\n",
      "Requirement already satisfied: httptools>=0.5.0 in /home/benjamin/anaconda3/lib/python3.11/site-packages (from uvicorn) (0.6.1)\n",
      "Requirement already satisfied: python-dotenv>=0.13 in /home/benjamin/anaconda3/lib/python3.11/site-packages (from uvicorn) (0.21.0)\n",
      "Requirement already satisfied: pyyaml>=5.1 in /home/benjamin/anaconda3/lib/python3.11/site-packages (from uvicorn) (6.0)\n",
      "Requirement already satisfied: uvloop!=0.15.0,!=0.15.1,>=0.14.0 in /home/benjamin/anaconda3/lib/python3.11/site-packages (from uvicorn) (0.19.0)\n",
      "Requirement already satisfied: watchfiles>=0.13 in /home/benjamin/anaconda3/lib/python3.11/site-packages (from uvicorn) (0.22.0)\n",
      "Requirement already satisfied: websockets>=10.4 in /home/benjamin/anaconda3/lib/python3.11/site-packages (from uvicorn) (12.0)\n",
      "Requirement already satisfied: shellingham>=1.3.0 in /home/benjamin/anaconda3/lib/python3.11/site-packages (from typer>=0.12.3->fastapi-cli>=0.0.2->fastapi) (1.5.0)\n",
      "Requirement already satisfied: rich>=10.11.0 in /home/benjamin/anaconda3/lib/python3.11/site-packages (from typer>=0.12.3->fastapi-cli>=0.0.2->fastapi) (13.3.5)\n",
      "Requirement already satisfied: markdown-it-py<3.0.0,>=2.2.0 in /home/benjamin/anaconda3/lib/python3.11/site-packages (from rich>=10.11.0->typer>=0.12.3->fastapi-cli>=0.0.2->fastapi) (2.2.0)\n",
      "Requirement already satisfied: pygments<3.0.0,>=2.13.0 in /home/benjamin/anaconda3/lib/python3.11/site-packages (from rich>=10.11.0->typer>=0.12.3->fastapi-cli>=0.0.2->fastapi) (2.15.1)\n",
      "Requirement already satisfied: mdurl~=0.1 in /home/benjamin/anaconda3/lib/python3.11/site-packages (from markdown-it-py<3.0.0,>=2.2.0->rich>=10.11.0->typer>=0.12.3->fastapi-cli>=0.0.2->fastapi) (0.1.0)\n"
     ]
    }
   ],
   "source": [
    "!pip install fastapi uvicorn\n",
    "\n",
    "import uvicorn\n",
    "from fastapi import FastAPI\n",
    "import numpy as np\n",
    "import pandas as pd"
   ]
  },
  {
   "cell_type": "code",
   "execution_count": 4,
   "id": "c9d9c8b2",
   "metadata": {},
   "outputs": [],
   "source": [
    "app = FastAPI()\n",
    "pickle_in = None\n",
    "classifier = None"
   ]
  },
  {
   "cell_type": "code",
   "execution_count": 5,
   "id": "cabf5dd1",
   "metadata": {},
   "outputs": [
    {
     "ename": "TypeError",
     "evalue": "FastAPI.get() missing 1 required positional argument: 'path'",
     "output_type": "error",
     "traceback": [
      "\u001b[0;31m---------------------------------------------------------------------------\u001b[0m",
      "\u001b[0;31mTypeError\u001b[0m                                 Traceback (most recent call last)",
      "Cell \u001b[0;32mIn[5], line 1\u001b[0m\n\u001b[0;32m----> 1\u001b[0m \u001b[38;5;129m@app\u001b[39m\u001b[38;5;241m.\u001b[39mget(\u001b[38;5;124m'\u001b[39m\u001b[38;5;124m/\u001b[39m\u001b[38;5;124m'\u001b[39m)\n\u001b[1;32m      2\u001b[0m \u001b[38;5;28;01mdef\u001b[39;00m \u001b[38;5;21mindex\u001b[39m():\n\u001b[1;32m      3\u001b[0m     \u001b[38;5;28;01mreturn\u001b[39;00m {\u001b[38;5;124m'\u001b[39m\u001b[38;5;124mmessage\u001b[39m\u001b[38;5;124m'\u001b[39m: \u001b[38;5;124mf\u001b[39m\u001b[38;5;124m'\u001b[39m\u001b[38;5;124mHello, stranger\u001b[39m\u001b[38;5;124m'\u001b[39m}\n\u001b[1;32m      5\u001b[0m \u001b[38;5;129m@app\u001b[39m\u001b[38;5;241m.\u001b[39mget(\u001b[38;5;124m'\u001b[39m\u001b[38;5;124m/\u001b[39m\u001b[38;5;132;01m{name}\u001b[39;00m\u001b[38;5;124m'\u001b[39m)\n\u001b[1;32m      6\u001b[0m \u001b[38;5;28;01mdef\u001b[39;00m \u001b[38;5;21mget_name\u001b[39m(name: \u001b[38;5;28mstr\u001b[39m):\n",
      "\u001b[0;31mTypeError\u001b[0m: FastAPI.get() missing 1 required positional argument: 'path'"
     ]
    }
   ],
   "source": [
    "@app.get('/')\n",
    "def index():\n",
    "    return {'message': f'Hello, stranger'}\n",
    "\n",
    "@app.get('/{name}')\n",
    "def get_name(name: str):\n",
    "    return {'message': f'Hello, {name}'}\n",
    "\n",
    "@app.post('/predict')\n",
    "def predict(data: str):\n",
    "    print(data)\n",
    "    print('Hello')\n",
    "    return {\n",
    "        'prediction':'OMGROFLWTFBBQMAOZEDONG'\n",
    "    }\n",
    "\n",
    "if __name__ == '__main__':\n",
    "    uvicorn.run(app, host='127.0.0.1', port=8000)"
   ]
  },
  {
   "cell_type": "code",
   "execution_count": null,
   "id": "ea13848a",
   "metadata": {},
   "outputs": [],
   "source": []
  }
 ],
 "metadata": {
  "kernelspec": {
   "display_name": "Python 3 (ipykernel)",
   "language": "python",
   "name": "python3"
  },
  "language_info": {
   "codemirror_mode": {
    "name": "ipython",
    "version": 3
   },
   "file_extension": ".py",
   "mimetype": "text/x-python",
   "name": "python",
   "nbconvert_exporter": "python",
   "pygments_lexer": "ipython3",
   "version": "3.11.5"
  }
 },
 "nbformat": 4,
 "nbformat_minor": 5
}

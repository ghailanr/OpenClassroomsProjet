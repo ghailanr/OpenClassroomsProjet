{
 "cells": [
  {
   "cell_type": "code",
   "execution_count": null,
   "id": "0dec6fb2",
   "metadata": {},
   "outputs": [],
   "source": [
    "Tweet_tokeniser -> glove -> LSTM/GRU/BERT\n"
   ]
  },
  {
   "cell_type": "code",
   "execution_count": 6,
   "id": "cedfc903",
   "metadata": {
    "scrolled": false
   },
   "outputs": [
    {
     "name": "stderr",
     "output_type": "stream",
     "text": [
      "[nltk_data] Downloading package punkt to /home/benjamin/nltk_data...\n",
      "[nltk_data]   Package punkt is already up-to-date!\n",
      "[nltk_data] Downloading package stopwords to\n",
      "[nltk_data]     /home/benjamin/nltk_data...\n",
      "[nltk_data]   Package stopwords is already up-to-date!\n"
     ]
    },
    {
     "name": "stdout",
     "output_type": "stream",
     "text": [
      "Requirement already satisfied: tensorflow_text in /home/benjamin/anaconda3/lib/python3.11/site-packages (2.16.1)\n",
      "Requirement already satisfied: tensorflow<2.17,>=2.16.1 in /home/benjamin/anaconda3/lib/python3.11/site-packages (from tensorflow_text) (2.16.2)\n",
      "Requirement already satisfied: absl-py>=1.0.0 in /home/benjamin/anaconda3/lib/python3.11/site-packages (from tensorflow<2.17,>=2.16.1->tensorflow_text) (2.1.0)\n",
      "Requirement already satisfied: astunparse>=1.6.0 in /home/benjamin/anaconda3/lib/python3.11/site-packages (from tensorflow<2.17,>=2.16.1->tensorflow_text) (1.6.3)\n",
      "Requirement already satisfied: flatbuffers>=23.5.26 in /home/benjamin/anaconda3/lib/python3.11/site-packages (from tensorflow<2.17,>=2.16.1->tensorflow_text) (24.3.25)\n",
      "Requirement already satisfied: gast!=0.5.0,!=0.5.1,!=0.5.2,>=0.2.1 in /home/benjamin/anaconda3/lib/python3.11/site-packages (from tensorflow<2.17,>=2.16.1->tensorflow_text) (0.4.0)\n",
      "Requirement already satisfied: google-pasta>=0.1.1 in /home/benjamin/anaconda3/lib/python3.11/site-packages (from tensorflow<2.17,>=2.16.1->tensorflow_text) (0.2.0)\n",
      "Requirement already satisfied: h5py>=3.10.0 in /home/benjamin/anaconda3/lib/python3.11/site-packages (from tensorflow<2.17,>=2.16.1->tensorflow_text) (3.11.0)\n",
      "Requirement already satisfied: libclang>=13.0.0 in /home/benjamin/anaconda3/lib/python3.11/site-packages (from tensorflow<2.17,>=2.16.1->tensorflow_text) (18.1.1)\n",
      "Requirement already satisfied: ml-dtypes~=0.3.1 in /home/benjamin/anaconda3/lib/python3.11/site-packages (from tensorflow<2.17,>=2.16.1->tensorflow_text) (0.3.2)\n",
      "Requirement already satisfied: opt-einsum>=2.3.2 in /home/benjamin/anaconda3/lib/python3.11/site-packages (from tensorflow<2.17,>=2.16.1->tensorflow_text) (3.3.0)\n",
      "Requirement already satisfied: packaging in /home/benjamin/anaconda3/lib/python3.11/site-packages (from tensorflow<2.17,>=2.16.1->tensorflow_text) (23.1)\n",
      "Requirement already satisfied: protobuf!=4.21.0,!=4.21.1,!=4.21.2,!=4.21.3,!=4.21.4,!=4.21.5,<5.0.0dev,>=3.20.3 in /home/benjamin/anaconda3/lib/python3.11/site-packages (from tensorflow<2.17,>=2.16.1->tensorflow_text) (3.20.3)\n",
      "Requirement already satisfied: requests<3,>=2.21.0 in /home/benjamin/anaconda3/lib/python3.11/site-packages (from tensorflow<2.17,>=2.16.1->tensorflow_text) (2.31.0)\n",
      "Requirement already satisfied: setuptools in /home/benjamin/anaconda3/lib/python3.11/site-packages (from tensorflow<2.17,>=2.16.1->tensorflow_text) (68.0.0)\n",
      "Requirement already satisfied: six>=1.12.0 in /home/benjamin/anaconda3/lib/python3.11/site-packages (from tensorflow<2.17,>=2.16.1->tensorflow_text) (1.16.0)\n",
      "Requirement already satisfied: termcolor>=1.1.0 in /home/benjamin/anaconda3/lib/python3.11/site-packages (from tensorflow<2.17,>=2.16.1->tensorflow_text) (2.1.0)\n",
      "Requirement already satisfied: typing-extensions>=3.6.6 in /home/benjamin/anaconda3/lib/python3.11/site-packages (from tensorflow<2.17,>=2.16.1->tensorflow_text) (4.12.2)\n",
      "Requirement already satisfied: wrapt>=1.11.0 in /home/benjamin/anaconda3/lib/python3.11/site-packages (from tensorflow<2.17,>=2.16.1->tensorflow_text) (1.14.1)\n",
      "Requirement already satisfied: grpcio<2.0,>=1.24.3 in /home/benjamin/anaconda3/lib/python3.11/site-packages (from tensorflow<2.17,>=2.16.1->tensorflow_text) (1.48.2)\n",
      "Requirement already satisfied: tensorboard<2.17,>=2.16 in /home/benjamin/anaconda3/lib/python3.11/site-packages (from tensorflow<2.17,>=2.16.1->tensorflow_text) (2.16.2)\n",
      "Requirement already satisfied: keras>=3.0.0 in /home/benjamin/anaconda3/lib/python3.11/site-packages (from tensorflow<2.17,>=2.16.1->tensorflow_text) (3.4.1)\n",
      "Requirement already satisfied: tensorflow-io-gcs-filesystem>=0.23.1 in /home/benjamin/anaconda3/lib/python3.11/site-packages (from tensorflow<2.17,>=2.16.1->tensorflow_text) (0.37.1)\n",
      "Requirement already satisfied: numpy<2.0.0,>=1.23.5 in /home/benjamin/anaconda3/lib/python3.11/site-packages (from tensorflow<2.17,>=2.16.1->tensorflow_text) (1.23.5)\n",
      "Requirement already satisfied: wheel<1.0,>=0.23.0 in /home/benjamin/anaconda3/lib/python3.11/site-packages (from astunparse>=1.6.0->tensorflow<2.17,>=2.16.1->tensorflow_text) (0.38.4)\n",
      "Requirement already satisfied: rich in /home/benjamin/anaconda3/lib/python3.11/site-packages (from keras>=3.0.0->tensorflow<2.17,>=2.16.1->tensorflow_text) (13.3.5)\n",
      "Requirement already satisfied: namex in /home/benjamin/anaconda3/lib/python3.11/site-packages (from keras>=3.0.0->tensorflow<2.17,>=2.16.1->tensorflow_text) (0.0.8)\n",
      "Requirement already satisfied: optree in /home/benjamin/anaconda3/lib/python3.11/site-packages (from keras>=3.0.0->tensorflow<2.17,>=2.16.1->tensorflow_text) (0.12.1)\n",
      "Requirement already satisfied: charset-normalizer<4,>=2 in /home/benjamin/anaconda3/lib/python3.11/site-packages (from requests<3,>=2.21.0->tensorflow<2.17,>=2.16.1->tensorflow_text) (2.0.4)\n",
      "Requirement already satisfied: idna<4,>=2.5 in /home/benjamin/anaconda3/lib/python3.11/site-packages (from requests<3,>=2.21.0->tensorflow<2.17,>=2.16.1->tensorflow_text) (3.4)\n",
      "Requirement already satisfied: urllib3<3,>=1.21.1 in /home/benjamin/anaconda3/lib/python3.11/site-packages (from requests<3,>=2.21.0->tensorflow<2.17,>=2.16.1->tensorflow_text) (1.26.16)\n",
      "Requirement already satisfied: certifi>=2017.4.17 in /home/benjamin/anaconda3/lib/python3.11/site-packages (from requests<3,>=2.21.0->tensorflow<2.17,>=2.16.1->tensorflow_text) (2024.7.4)\n",
      "Requirement already satisfied: markdown>=2.6.8 in /home/benjamin/anaconda3/lib/python3.11/site-packages (from tensorboard<2.17,>=2.16->tensorflow<2.17,>=2.16.1->tensorflow_text) (3.4.1)\n",
      "Requirement already satisfied: tensorboard-data-server<0.8.0,>=0.7.0 in /home/benjamin/anaconda3/lib/python3.11/site-packages (from tensorboard<2.17,>=2.16->tensorflow<2.17,>=2.16.1->tensorflow_text) (0.7.0)\n",
      "Requirement already satisfied: werkzeug>=1.0.1 in /home/benjamin/anaconda3/lib/python3.11/site-packages (from tensorboard<2.17,>=2.16->tensorflow<2.17,>=2.16.1->tensorflow_text) (2.2.3)\n",
      "Requirement already satisfied: MarkupSafe>=2.1.1 in /home/benjamin/anaconda3/lib/python3.11/site-packages (from werkzeug>=1.0.1->tensorboard<2.17,>=2.16->tensorflow<2.17,>=2.16.1->tensorflow_text) (2.1.1)\n",
      "Requirement already satisfied: markdown-it-py<3.0.0,>=2.2.0 in /home/benjamin/anaconda3/lib/python3.11/site-packages (from rich->keras>=3.0.0->tensorflow<2.17,>=2.16.1->tensorflow_text) (2.2.0)\n",
      "Requirement already satisfied: pygments<3.0.0,>=2.13.0 in /home/benjamin/anaconda3/lib/python3.11/site-packages (from rich->keras>=3.0.0->tensorflow<2.17,>=2.16.1->tensorflow_text) (2.15.1)\n",
      "Requirement already satisfied: mdurl~=0.1 in /home/benjamin/anaconda3/lib/python3.11/site-packages (from markdown-it-py<3.0.0,>=2.2.0->rich->keras>=3.0.0->tensorflow<2.17,>=2.16.1->tensorflow_text) (0.1.0)\n"
     ]
    },
    {
     "ename": "ImportError",
     "evalue": "/home/benjamin/anaconda3/lib/python3.11/site-packages/tensorflow_text/core/pybinds/tflite_registrar.so: undefined symbol: _ZN4absl12lts_2023080216raw_log_internal21internal_log_functionB5cxx11E",
     "output_type": "error",
     "traceback": [
      "\u001b[0;31m---------------------------------------------------------------------------\u001b[0m",
      "\u001b[0;31mImportError\u001b[0m                               Traceback (most recent call last)",
      "Cell \u001b[0;32mIn[6], line 22\u001b[0m\n\u001b[1;32m     20\u001b[0m \u001b[38;5;28;01mimport\u001b[39;00m \u001b[38;5;21;01mtensorflow_hub\u001b[39;00m \u001b[38;5;28;01mas\u001b[39;00m \u001b[38;5;21;01mhub\u001b[39;00m\n\u001b[1;32m     21\u001b[0m get_ipython()\u001b[38;5;241m.\u001b[39msystem(\u001b[38;5;124m'\u001b[39m\u001b[38;5;124mpip install tensorflow_text\u001b[39m\u001b[38;5;124m'\u001b[39m)\n\u001b[0;32m---> 22\u001b[0m \u001b[38;5;28;01mimport\u001b[39;00m \u001b[38;5;21;01mtensorflow_text\u001b[39;00m \n\u001b[1;32m     23\u001b[0m \u001b[38;5;28;01mfrom\u001b[39;00m \u001b[38;5;21;01mtensorflow\u001b[39;00m\u001b[38;5;21;01m.\u001b[39;00m\u001b[38;5;21;01mkeras\u001b[39;00m\u001b[38;5;21;01m.\u001b[39;00m\u001b[38;5;21;01mpreprocessing\u001b[39;00m \u001b[38;5;28;01mimport\u001b[39;00m text, sequence \n\u001b[1;32m     24\u001b[0m \u001b[38;5;28;01mfrom\u001b[39;00m \u001b[38;5;21;01mtensorflow\u001b[39;00m\u001b[38;5;21;01m.\u001b[39;00m\u001b[38;5;21;01mkeras\u001b[39;00m\u001b[38;5;21;01m.\u001b[39;00m\u001b[38;5;21;01mlayers\u001b[39;00m \u001b[38;5;28;01mimport\u001b[39;00m Dropout\n",
      "File \u001b[0;32m~/anaconda3/lib/python3.11/site-packages/tensorflow_text/__init__.py:20\u001b[0m\n\u001b[1;32m     17\u001b[0m \u001b[38;5;28;01mfrom\u001b[39;00m \u001b[38;5;21;01mtensorflow\u001b[39;00m\u001b[38;5;21;01m.\u001b[39;00m\u001b[38;5;21;01mpython\u001b[39;00m\u001b[38;5;21;01m.\u001b[39;00m\u001b[38;5;21;01mutil\u001b[39;00m\u001b[38;5;21;01m.\u001b[39;00m\u001b[38;5;21;01mall_util\u001b[39;00m \u001b[38;5;28;01mimport\u001b[39;00m remove_undocumented\n\u001b[1;32m     19\u001b[0m \u001b[38;5;66;03m# pylint: disable=wildcard-import\u001b[39;00m\n\u001b[0;32m---> 20\u001b[0m \u001b[38;5;28;01mfrom\u001b[39;00m \u001b[38;5;21;01mtensorflow_text\u001b[39;00m\u001b[38;5;21;01m.\u001b[39;00m\u001b[38;5;21;01mcore\u001b[39;00m\u001b[38;5;21;01m.\u001b[39;00m\u001b[38;5;21;01mpybinds\u001b[39;00m \u001b[38;5;28;01mimport\u001b[39;00m tflite_registrar\n\u001b[1;32m     21\u001b[0m \u001b[38;5;28;01mfrom\u001b[39;00m \u001b[38;5;21;01mtensorflow_text\u001b[39;00m\u001b[38;5;21;01m.\u001b[39;00m\u001b[38;5;21;01mpython\u001b[39;00m \u001b[38;5;28;01mimport\u001b[39;00m keras\n\u001b[1;32m     22\u001b[0m \u001b[38;5;28;01mfrom\u001b[39;00m \u001b[38;5;21;01mtensorflow_text\u001b[39;00m\u001b[38;5;21;01m.\u001b[39;00m\u001b[38;5;21;01mpython\u001b[39;00m \u001b[38;5;28;01mimport\u001b[39;00m metrics\n",
      "\u001b[0;31mImportError\u001b[0m: /home/benjamin/anaconda3/lib/python3.11/site-packages/tensorflow_text/core/pybinds/tflite_registrar.so: undefined symbol: _ZN4absl12lts_2023080216raw_log_internal21internal_log_functionB5cxx11E"
     ]
    }
   ],
   "source": [
    "import numpy as np \n",
    "import pandas as pd \n",
    "import os, math\n",
    " \n",
    "#for visualization\n",
    "import matplotlib.pyplot as plt\n",
    "import seaborn as sns\n",
    "from wordcloud import WordCloud, STOPWORDS\n",
    " \n",
    "#for text cleaning\n",
    "import string, re\n",
    "import nltk\n",
    "nltk.download('punkt')\n",
    "nltk.download('stopwords')\n",
    "from nltk.tokenize import word_tokenize\n",
    "from nltk.corpus import stopwords\n",
    " \n",
    "#for data analysis and modeling\n",
    "import tensorflow as tf\n",
    "import tensorflow_hub as hub\n",
    "!pip install tensorflow_text\n",
    "import tensorflow_text \n",
    "from tensorflow.keras.preprocessing import text, sequence \n",
    "from tensorflow.keras.layers import Dropout\n",
    "from tensorflow.keras.metrics import Recall\n",
    "from tensorflow.keras.models import Sequential\n",
    "from tensorflow.keras.layers import LSTM, GRU, Bidirectional, Dense, Embedding, Dropout\n",
    "from tensorflow.keras.layers import TextVectorization\n",
    "tf.__version__\n",
    "# 2.12.0\n",
    " \n",
    "from sklearn.model_selection import train_test_split\n",
    "from sklearn.utils.class_weight import compute_class_weight"
   ]
  },
  {
   "cell_type": "code",
   "execution_count": null,
   "id": "29cb87e4",
   "metadata": {},
   "outputs": [],
   "source": [
    "data = pd.read_csv(\n",
    "    '/home/benjamin/Documents/OpenClassroomsDatasets/sentiment/sentiment140/training.1600000.processed.noemoticon.csv',\n",
    "    encoding = \"ISO-8859-1\",\n",
    "    names=[\"target\", \"id\", \"date\", \"flag\", \"user\", \"text\"]\n",
    ")\n",
    "\n",
    "data = data.drop(columns=[\"id\", \"date\", \"flag\", \"user\"])\n",
    "\n",
    "data.target = data.target.map(\n",
    "    {\n",
    "        0: 0.0,\n",
    "        2: 0.0,\n",
    "        4: 1.0,\n",
    "    }\n",
    ")\n",
    "\n",
    "def sample_equal_classes(df, n_pos=100000, n_neg=100000):\n",
    "    df_pos = df[df[\"target\"] == 1.0].sample(n=n_pos)\n",
    "    df_neg = df[df[\"target\"] == 0.0].sample(n=n_neg)\n",
    "    \n",
    "    return pd.concat([df_pos, df_neg]).reset_index(drop=True)\n",
    "sampled_df = sample_equal_classes(data)\n",
    "\n",
    "xtrain, xtest, ytrain, ytest = train_test_split(sampled_df['text'].values, sampled_df['target'].values, shuffle=True, test_size=0.2)\n"
   ]
  },
  {
   "cell_type": "code",
   "execution_count": null,
   "id": "ca58b03a",
   "metadata": {},
   "outputs": [],
   "source": [
    "max_words = 20000"
   ]
  }
 ],
 "metadata": {
  "kernelspec": {
   "display_name": "Python 3 (ipykernel)",
   "language": "python",
   "name": "python3"
  },
  "language_info": {
   "codemirror_mode": {
    "name": "ipython",
    "version": 3
   },
   "file_extension": ".py",
   "mimetype": "text/x-python",
   "name": "python",
   "nbconvert_exporter": "python",
   "pygments_lexer": "ipython3",
   "version": "3.11.5"
  }
 },
 "nbformat": 4,
 "nbformat_minor": 5
}
